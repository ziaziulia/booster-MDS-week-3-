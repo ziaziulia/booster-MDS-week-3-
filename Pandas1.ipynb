{
 "cells": [
  {
   "cell_type": "markdown",
   "metadata": {},
   "source": [
    "Тетрадка предназначена для студентов образвательного проекта Booster MDS использование вне проекта запрещено."
   ]
  },
  {
   "cell_type": "markdown",
   "metadata": {},
   "source": [
    "##### Задания не несут смысловой нагрузки для реальной жизни, они сделаны лишь для того, чтоб научить использовать Pandas"
   ]
  },
  {
   "cell_type": "markdown",
   "metadata": {},
   "source": [
    "#### Каждое задание оценивает в 1 балл, для успешной сдачи задания нужно набрать 12 баллов"
   ]
  },
  {
   "cell_type": "markdown",
   "metadata": {},
   "source": [
    "This database contains 76 attributes, but all published experiments refer to using a subset of 14 of them. In particular, the Cleveland database is the only one that has been used by ML researchers to this date. The \"goal\" field refers to the presence of heart disease in the patient. It is integer valued from 0 (no presence) to 1."
   ]
  },
  {
   "cell_type": "markdown",
   "metadata": {},
   "source": [
    "https://www.kaggle.com/ronitf/heart-disease-uci"
   ]
  },
  {
   "cell_type": "markdown",
   "metadata": {},
   "source": [
    "___"
   ]
  },
  {
   "cell_type": "code",
   "execution_count": 2,
   "metadata": {},
   "outputs": [],
   "source": [
    "import pandas as pd\n",
    "import numpy as np"
   ]
  },
  {
   "cell_type": "code",
   "execution_count": 3,
   "metadata": {},
   "outputs": [],
   "source": [
    "data = pd.read_csv('../heart_pandas.csv')"
   ]
  },
  {
   "cell_type": "code",
   "execution_count": 4,
   "metadata": {},
   "outputs": [
    {
     "data": {
      "text/html": [
       "<div>\n",
       "<style scoped>\n",
       "    .dataframe tbody tr th:only-of-type {\n",
       "        vertical-align: middle;\n",
       "    }\n",
       "\n",
       "    .dataframe tbody tr th {\n",
       "        vertical-align: top;\n",
       "    }\n",
       "\n",
       "    .dataframe thead th {\n",
       "        text-align: right;\n",
       "    }\n",
       "</style>\n",
       "<table border=\"1\" class=\"dataframe\">\n",
       "  <thead>\n",
       "    <tr style=\"text-align: right;\">\n",
       "      <th></th>\n",
       "      <th>age</th>\n",
       "      <th>sex</th>\n",
       "      <th>chest_pain_type</th>\n",
       "      <th>resting_blood_pressure</th>\n",
       "      <th>cholesterol</th>\n",
       "      <th>fasting_blood_sugar</th>\n",
       "      <th>rest_ecg</th>\n",
       "      <th>max_heart_rate_achieved</th>\n",
       "      <th>exercise_induced_angina</th>\n",
       "      <th>st_depression</th>\n",
       "      <th>st_slope</th>\n",
       "      <th>num_major_vessels</th>\n",
       "      <th>thalassemia</th>\n",
       "      <th>target</th>\n",
       "    </tr>\n",
       "  </thead>\n",
       "  <tbody>\n",
       "    <tr>\n",
       "      <th>0</th>\n",
       "      <td>63</td>\n",
       "      <td>male</td>\n",
       "      <td>non-anginal pain</td>\n",
       "      <td>145</td>\n",
       "      <td>233</td>\n",
       "      <td>greater than 120mg/ml</td>\n",
       "      <td>normal</td>\n",
       "      <td>150</td>\n",
       "      <td>no</td>\n",
       "      <td>2.3</td>\n",
       "      <td>upsloping</td>\n",
       "      <td>0</td>\n",
       "      <td>normal</td>\n",
       "      <td>1</td>\n",
       "    </tr>\n",
       "    <tr>\n",
       "      <th>1</th>\n",
       "      <td>37</td>\n",
       "      <td>male</td>\n",
       "      <td>atypical angina</td>\n",
       "      <td>130</td>\n",
       "      <td>250</td>\n",
       "      <td>lower than 120mg/ml</td>\n",
       "      <td>ST-T wave abnormality</td>\n",
       "      <td>187</td>\n",
       "      <td>no</td>\n",
       "      <td>3.5</td>\n",
       "      <td>upsloping</td>\n",
       "      <td>0</td>\n",
       "      <td>fixed defect</td>\n",
       "      <td>1</td>\n",
       "    </tr>\n",
       "    <tr>\n",
       "      <th>2</th>\n",
       "      <td>41</td>\n",
       "      <td>female</td>\n",
       "      <td>typical angina</td>\n",
       "      <td>130</td>\n",
       "      <td>204</td>\n",
       "      <td>lower than 120mg/ml</td>\n",
       "      <td>normal</td>\n",
       "      <td>172</td>\n",
       "      <td>no</td>\n",
       "      <td>1.4</td>\n",
       "      <td>flat</td>\n",
       "      <td>0</td>\n",
       "      <td>fixed defect</td>\n",
       "      <td>1</td>\n",
       "    </tr>\n",
       "    <tr>\n",
       "      <th>3</th>\n",
       "      <td>56</td>\n",
       "      <td>male</td>\n",
       "      <td>typical angina</td>\n",
       "      <td>120</td>\n",
       "      <td>236</td>\n",
       "      <td>lower than 120mg/ml</td>\n",
       "      <td>ST-T wave abnormality</td>\n",
       "      <td>178</td>\n",
       "      <td>no</td>\n",
       "      <td>0.8</td>\n",
       "      <td>flat</td>\n",
       "      <td>0</td>\n",
       "      <td>fixed defect</td>\n",
       "      <td>1</td>\n",
       "    </tr>\n",
       "    <tr>\n",
       "      <th>4</th>\n",
       "      <td>57</td>\n",
       "      <td>female</td>\n",
       "      <td>typical angina</td>\n",
       "      <td>120</td>\n",
       "      <td>354</td>\n",
       "      <td>lower than 120mg/ml</td>\n",
       "      <td>ST-T wave abnormality</td>\n",
       "      <td>163</td>\n",
       "      <td>yes</td>\n",
       "      <td>0.6</td>\n",
       "      <td>flat</td>\n",
       "      <td>0</td>\n",
       "      <td>fixed defect</td>\n",
       "      <td>1</td>\n",
       "    </tr>\n",
       "  </tbody>\n",
       "</table>\n",
       "</div>"
      ],
      "text/plain": [
       "   age     sex   chest_pain_type  resting_blood_pressure  cholesterol  \\\n",
       "0   63    male  non-anginal pain                     145          233   \n",
       "1   37    male   atypical angina                     130          250   \n",
       "2   41  female    typical angina                     130          204   \n",
       "3   56    male    typical angina                     120          236   \n",
       "4   57  female    typical angina                     120          354   \n",
       "\n",
       "     fasting_blood_sugar               rest_ecg  max_heart_rate_achieved  \\\n",
       "0  greater than 120mg/ml                 normal                      150   \n",
       "1    lower than 120mg/ml  ST-T wave abnormality                      187   \n",
       "2    lower than 120mg/ml                 normal                      172   \n",
       "3    lower than 120mg/ml  ST-T wave abnormality                      178   \n",
       "4    lower than 120mg/ml  ST-T wave abnormality                      163   \n",
       "\n",
       "  exercise_induced_angina  st_depression   st_slope  num_major_vessels  \\\n",
       "0                      no            2.3  upsloping                  0   \n",
       "1                      no            3.5  upsloping                  0   \n",
       "2                      no            1.4       flat                  0   \n",
       "3                      no            0.8       flat                  0   \n",
       "4                     yes            0.6       flat                  0   \n",
       "\n",
       "    thalassemia  target  \n",
       "0        normal       1  \n",
       "1  fixed defect       1  \n",
       "2  fixed defect       1  \n",
       "3  fixed defect       1  \n",
       "4  fixed defect       1  "
      ]
     },
     "execution_count": 4,
     "metadata": {},
     "output_type": "execute_result"
    }
   ],
   "source": [
    "data.head(5)"
   ]
  },
  {
   "cell_type": "markdown",
   "metadata": {},
   "source": [
    "#### Описание признаков"
   ]
  },
  {
   "cell_type": "markdown",
   "metadata": {},
   "source": [
    "**age**: The person's age in years\n",
    "\n",
    "**sex**: The person's sex (1 = male, 0 = female)\n",
    "\n",
    "**cp**: The chest pain experienced (Value 1: typical angina, Value 2: atypical angina, Value 3: non-anginal pain, Value 4: asymptomatic)\n",
    "\n",
    "**trestbps**: The person's resting blood pressure (mm Hg on admission to the hospital)\n",
    "\n",
    "**chol**: The person's cholesterol measurement in mg/dl\n",
    "\n",
    "**fbs**: The person's fasting blood sugar (> 120 mg/dl, 1 = true; 0 = false)\n",
    "\n",
    "**restecg**: Resting electrocardiographic measurement (0 = normal, 1 = having ST-T wave abnormality, 2 = showing probable or definite left ventricular hypertrophy by Estes' criteria)\n",
    "\n",
    "**thalach**: The person's maximum heart rate achieved\n",
    "\n",
    "**exang**: Exercise induced angina (1 = yes; 0 = no)\n",
    "\n",
    "**oldpeak**: ST depression induced by exercise relative to rest ('ST' relates to positions on the ECG plot. See more here)\n",
    "\n",
    "**slope**: the slope of the peak exercise ST segment (Value 1: upsloping, Value 2: flat, Value 3: downsloping)\n",
    "\n",
    "**ca**: The number of major vessels (0-3)\n",
    "\n",
    "**thal**: A blood disorder called thalassemia (3 = normal; 6 = fixed defect; 7 = reversable defect)\n",
    "\n",
    "**target**: Heart disease (0 = no, 1 = yes)"
   ]
  },
  {
   "cell_type": "markdown",
   "metadata": {},
   "source": [
    "> 1. age \n",
    "> 2. sex \n",
    "> 3. chest pain type (4 values) \n",
    "> 4. resting blood pressure \n",
    "> 5. serum cholestoral in mg/dl \n",
    "> 6. fasting blood sugar > 120 mg/dl\n",
    "> 7. resting electrocardiographic results (values 0,1,2)\n",
    "> 8. maximum heart rate achieved \n",
    "> 9. exercise induced angina \n",
    "> 10. oldpeak = ST depression induced by exercise relative to rest \n",
    "> 11. the slope of the peak exercise ST segment \n",
    "> 12. number of major vessels (0-3) colored by flourosopy \n",
    "> 13. thal: 3 = normal; 6 = fixed defect; 7 = reversable defect"
   ]
  },
  {
   "cell_type": "markdown",
   "metadata": {},
   "source": [
    "___"
   ]
  },
  {
   "cell_type": "markdown",
   "metadata": {},
   "source": [
    "**Сколько мужчин в датасете? Сколько женщен? (sex) **"
   ]
  },
  {
   "cell_type": "markdown",
   "metadata": {},
   "source": [
    "> 1/1 баллов"
   ]
  },
  {
   "cell_type": "code",
   "execution_count": 6,
   "metadata": {},
   "outputs": [
    {
     "data": {
      "text/plain": [
       "male      207\n",
       "female     96\n",
       "Name: sex, dtype: int64"
      ]
     },
     "execution_count": 6,
     "metadata": {},
     "output_type": "execute_result"
    }
   ],
   "source": [
    "data['sex'].value_counts()"
   ]
  },
  {
   "cell_type": "code",
   "execution_count": null,
   "metadata": {},
   "outputs": [],
   "source": [
    "## Ваш ответ:male-207, female-96."
   ]
  },
  {
   "cell_type": "markdown",
   "metadata": {},
   "source": [
    " **Какой процент мужчин в датасете? (решите в одну строчку, не используя предыдущий результат. Не забудте знак процента) **"
   ]
  },
  {
   "cell_type": "markdown",
   "metadata": {},
   "source": [
    "> 1/1 баллов"
   ]
  },
  {
   "cell_type": "code",
   "execution_count": 7,
   "metadata": {},
   "outputs": [
    {
     "data": {
      "text/plain": [
       "male      0.683168\n",
       "female    0.316832\n",
       "Name: sex, dtype: float64"
      ]
     },
     "execution_count": 7,
     "metadata": {},
     "output_type": "execute_result"
    }
   ],
   "source": [
    "data['sex'].value_counts(normalize=True)"
   ]
  },
  {
   "cell_type": "code",
   "execution_count": 33,
   "metadata": {},
   "outputs": [
    {
     "name": "stdout",
     "output_type": "stream",
     "text": [
      "male 68.3168 %\n"
     ]
    }
   ],
   "source": [
    "## Ваш ответ: \n",
    "print('male',0.683168*100,'%')"
   ]
  },
  {
   "cell_type": "markdown",
   "metadata": {},
   "source": [
    "**Сколько мужчин имеют заболевание сердца? Сколько женщин имеют заболевание сердца? **"
   ]
  },
  {
   "cell_type": "markdown",
   "metadata": {},
   "source": [
    "> 1/1 баллов"
   ]
  },
  {
   "cell_type": "code",
   "execution_count": 34,
   "metadata": {
    "scrolled": true
   },
   "outputs": [
    {
     "data": {
      "text/html": [
       "<div>\n",
       "<style scoped>\n",
       "    .dataframe tbody tr th:only-of-type {\n",
       "        vertical-align: middle;\n",
       "    }\n",
       "\n",
       "    .dataframe tbody tr th {\n",
       "        vertical-align: top;\n",
       "    }\n",
       "\n",
       "    .dataframe thead th {\n",
       "        text-align: right;\n",
       "    }\n",
       "</style>\n",
       "<table border=\"1\" class=\"dataframe\">\n",
       "  <thead>\n",
       "    <tr style=\"text-align: right;\">\n",
       "      <th>sex</th>\n",
       "      <th>female</th>\n",
       "      <th>male</th>\n",
       "    </tr>\n",
       "    <tr>\n",
       "      <th>target</th>\n",
       "      <th></th>\n",
       "      <th></th>\n",
       "    </tr>\n",
       "  </thead>\n",
       "  <tbody>\n",
       "    <tr>\n",
       "      <th>0</th>\n",
       "      <td>24</td>\n",
       "      <td>114</td>\n",
       "    </tr>\n",
       "    <tr>\n",
       "      <th>1</th>\n",
       "      <td>72</td>\n",
       "      <td>93</td>\n",
       "    </tr>\n",
       "  </tbody>\n",
       "</table>\n",
       "</div>"
      ],
      "text/plain": [
       "sex     female  male\n",
       "target              \n",
       "0           24   114\n",
       "1           72    93"
      ]
     },
     "execution_count": 34,
     "metadata": {},
     "output_type": "execute_result"
    }
   ],
   "source": [
    "pd.crosstab(data['target'], data['sex'])"
   ]
  },
  {
   "cell_type": "code",
   "execution_count": 18,
   "metadata": {},
   "outputs": [],
   "source": [
    "## Ваш ответ: male-93,female - 72."
   ]
  },
  {
   "cell_type": "markdown",
   "metadata": {},
   "source": [
    "**Какую долю, от общего числа пациентов, занимают мужчины не имеющие болезнь сердца?**"
   ]
  },
  {
   "cell_type": "markdown",
   "metadata": {},
   "source": [
    "> 1/1 баллов"
   ]
  },
  {
   "cell_type": "code",
   "execution_count": 49,
   "metadata": {
    "scrolled": true
   },
   "outputs": [
    {
     "data": {
      "text/html": [
       "<div>\n",
       "<style scoped>\n",
       "    .dataframe tbody tr th:only-of-type {\n",
       "        vertical-align: middle;\n",
       "    }\n",
       "\n",
       "    .dataframe tbody tr th {\n",
       "        vertical-align: top;\n",
       "    }\n",
       "\n",
       "    .dataframe thead th {\n",
       "        text-align: right;\n",
       "    }\n",
       "</style>\n",
       "<table border=\"1\" class=\"dataframe\">\n",
       "  <thead>\n",
       "    <tr style=\"text-align: right;\">\n",
       "      <th>target</th>\n",
       "      <th>0</th>\n",
       "      <th>1</th>\n",
       "    </tr>\n",
       "    <tr>\n",
       "      <th>sex</th>\n",
       "      <th></th>\n",
       "      <th></th>\n",
       "    </tr>\n",
       "  </thead>\n",
       "  <tbody>\n",
       "    <tr>\n",
       "      <th>female</th>\n",
       "      <td>0.079208</td>\n",
       "      <td>0.237624</td>\n",
       "    </tr>\n",
       "    <tr>\n",
       "      <th>male</th>\n",
       "      <td>0.376238</td>\n",
       "      <td>0.306931</td>\n",
       "    </tr>\n",
       "  </tbody>\n",
       "</table>\n",
       "</div>"
      ],
      "text/plain": [
       "target         0         1\n",
       "sex                       \n",
       "female  0.079208  0.237624\n",
       "male    0.376238  0.306931"
      ]
     },
     "execution_count": 49,
     "metadata": {},
     "output_type": "execute_result"
    }
   ],
   "source": [
    "pd.crosstab(data['sex'], data['target'], normalize=True)"
   ]
  },
  {
   "cell_type": "code",
   "execution_count": 19,
   "metadata": {},
   "outputs": [],
   "source": [
    "## Ваш ответ:37.6238"
   ]
  },
  {
   "cell_type": "markdown",
   "metadata": {},
   "source": [
    "**Сколько лет самому молодому пациенту, страдающему болезнью сердца?**"
   ]
  },
  {
   "cell_type": "markdown",
   "metadata": {},
   "source": [
    "нужно получить это чило, а не смотреть глазами. Переделай и пришли в личку"
   ]
  },
  {
   "cell_type": "markdown",
   "metadata": {},
   "source": [
    "> 1/1 баллов"
   ]
  },
  {
   "cell_type": "code",
   "execution_count": 48,
   "metadata": {
    "scrolled": true
   },
   "outputs": [
    {
     "data": {
      "text/html": [
       "<div>\n",
       "<style scoped>\n",
       "    .dataframe tbody tr th:only-of-type {\n",
       "        vertical-align: middle;\n",
       "    }\n",
       "\n",
       "    .dataframe tbody tr th {\n",
       "        vertical-align: top;\n",
       "    }\n",
       "\n",
       "    .dataframe thead th {\n",
       "        text-align: right;\n",
       "    }\n",
       "</style>\n",
       "<table border=\"1\" class=\"dataframe\">\n",
       "  <thead>\n",
       "    <tr style=\"text-align: right;\">\n",
       "      <th></th>\n",
       "      <th>age</th>\n",
       "      <th>sex</th>\n",
       "      <th>chest_pain_type</th>\n",
       "      <th>resting_blood_pressure</th>\n",
       "      <th>cholesterol</th>\n",
       "      <th>fasting_blood_sugar</th>\n",
       "      <th>rest_ecg</th>\n",
       "      <th>max_heart_rate_achieved</th>\n",
       "      <th>exercise_induced_angina</th>\n",
       "      <th>st_depression</th>\n",
       "      <th>st_slope</th>\n",
       "      <th>num_major_vessels</th>\n",
       "      <th>thalassemia</th>\n",
       "      <th>target</th>\n",
       "    </tr>\n",
       "  </thead>\n",
       "  <tbody>\n",
       "    <tr>\n",
       "      <th>72</th>\n",
       "      <td>29</td>\n",
       "      <td>male</td>\n",
       "      <td>typical angina</td>\n",
       "      <td>130</td>\n",
       "      <td>204</td>\n",
       "      <td>lower than 120mg/ml</td>\n",
       "      <td>normal</td>\n",
       "      <td>202</td>\n",
       "      <td>no</td>\n",
       "      <td>0.0</td>\n",
       "      <td>flat</td>\n",
       "      <td>0</td>\n",
       "      <td>fixed defect</td>\n",
       "      <td>1</td>\n",
       "    </tr>\n",
       "    <tr>\n",
       "      <th>58</th>\n",
       "      <td>34</td>\n",
       "      <td>male</td>\n",
       "      <td>non-anginal pain</td>\n",
       "      <td>118</td>\n",
       "      <td>182</td>\n",
       "      <td>lower than 120mg/ml</td>\n",
       "      <td>normal</td>\n",
       "      <td>174</td>\n",
       "      <td>no</td>\n",
       "      <td>0.0</td>\n",
       "      <td>flat</td>\n",
       "      <td>0</td>\n",
       "      <td>fixed defect</td>\n",
       "      <td>1</td>\n",
       "    </tr>\n",
       "    <tr>\n",
       "      <th>125</th>\n",
       "      <td>34</td>\n",
       "      <td>female</td>\n",
       "      <td>typical angina</td>\n",
       "      <td>118</td>\n",
       "      <td>210</td>\n",
       "      <td>lower than 120mg/ml</td>\n",
       "      <td>ST-T wave abnormality</td>\n",
       "      <td>192</td>\n",
       "      <td>no</td>\n",
       "      <td>0.7</td>\n",
       "      <td>flat</td>\n",
       "      <td>0</td>\n",
       "      <td>fixed defect</td>\n",
       "      <td>1</td>\n",
       "    </tr>\n",
       "    <tr>\n",
       "      <th>65</th>\n",
       "      <td>35</td>\n",
       "      <td>female</td>\n",
       "      <td>typical angina</td>\n",
       "      <td>138</td>\n",
       "      <td>183</td>\n",
       "      <td>lower than 120mg/ml</td>\n",
       "      <td>ST-T wave abnormality</td>\n",
       "      <td>182</td>\n",
       "      <td>no</td>\n",
       "      <td>1.4</td>\n",
       "      <td>flat</td>\n",
       "      <td>0</td>\n",
       "      <td>fixed defect</td>\n",
       "      <td>1</td>\n",
       "    </tr>\n",
       "    <tr>\n",
       "      <th>157</th>\n",
       "      <td>35</td>\n",
       "      <td>male</td>\n",
       "      <td>typical angina</td>\n",
       "      <td>122</td>\n",
       "      <td>192</td>\n",
       "      <td>lower than 120mg/ml</td>\n",
       "      <td>ST-T wave abnormality</td>\n",
       "      <td>174</td>\n",
       "      <td>no</td>\n",
       "      <td>0.0</td>\n",
       "      <td>flat</td>\n",
       "      <td>0</td>\n",
       "      <td>fixed defect</td>\n",
       "      <td>1</td>\n",
       "    </tr>\n",
       "  </tbody>\n",
       "</table>\n",
       "</div>"
      ],
      "text/plain": [
       "     age     sex   chest_pain_type  resting_blood_pressure  cholesterol  \\\n",
       "72    29    male    typical angina                     130          204   \n",
       "58    34    male  non-anginal pain                     118          182   \n",
       "125   34  female    typical angina                     118          210   \n",
       "65    35  female    typical angina                     138          183   \n",
       "157   35    male    typical angina                     122          192   \n",
       "\n",
       "     fasting_blood_sugar               rest_ecg  max_heart_rate_achieved  \\\n",
       "72   lower than 120mg/ml                 normal                      202   \n",
       "58   lower than 120mg/ml                 normal                      174   \n",
       "125  lower than 120mg/ml  ST-T wave abnormality                      192   \n",
       "65   lower than 120mg/ml  ST-T wave abnormality                      182   \n",
       "157  lower than 120mg/ml  ST-T wave abnormality                      174   \n",
       "\n",
       "    exercise_induced_angina  st_depression st_slope  num_major_vessels  \\\n",
       "72                       no            0.0     flat                  0   \n",
       "58                       no            0.0     flat                  0   \n",
       "125                      no            0.7     flat                  0   \n",
       "65                       no            1.4     flat                  0   \n",
       "157                      no            0.0     flat                  0   \n",
       "\n",
       "      thalassemia  target  \n",
       "72   fixed defect       1  \n",
       "58   fixed defect       1  \n",
       "125  fixed defect       1  \n",
       "65   fixed defect       1  \n",
       "157  fixed defect       1  "
      ]
     },
     "execution_count": 48,
     "metadata": {},
     "output_type": "execute_result"
    }
   ],
   "source": [
    "data.sort_values(by=['target', 'age'],\n",
    "        ascending=[False, True]).head()"
   ]
  },
  {
   "cell_type": "code",
   "execution_count": null,
   "metadata": {},
   "outputs": [],
   "source": [
    "## Ваш ответ:29"
   ]
  },
  {
   "cell_type": "markdown",
   "metadata": {},
   "source": [
    "**Сколько лет самому возастному пациенту, у которого нет проблем с сердцем?**"
   ]
  },
  {
   "cell_type": "markdown",
   "metadata": {},
   "source": [
    "> 1/1 баллов"
   ]
  },
  {
   "cell_type": "code",
   "execution_count": 26,
   "metadata": {},
   "outputs": [
    {
     "data": {
      "text/html": [
       "<div>\n",
       "<style scoped>\n",
       "    .dataframe tbody tr th:only-of-type {\n",
       "        vertical-align: middle;\n",
       "    }\n",
       "\n",
       "    .dataframe tbody tr th {\n",
       "        vertical-align: top;\n",
       "    }\n",
       "\n",
       "    .dataframe thead th {\n",
       "        text-align: right;\n",
       "    }\n",
       "</style>\n",
       "<table border=\"1\" class=\"dataframe\">\n",
       "  <thead>\n",
       "    <tr style=\"text-align: right;\">\n",
       "      <th></th>\n",
       "      <th>age</th>\n",
       "      <th>sex</th>\n",
       "      <th>chest_pain_type</th>\n",
       "      <th>resting_blood_pressure</th>\n",
       "      <th>cholesterol</th>\n",
       "      <th>fasting_blood_sugar</th>\n",
       "      <th>rest_ecg</th>\n",
       "      <th>max_heart_rate_achieved</th>\n",
       "      <th>exercise_induced_angina</th>\n",
       "      <th>st_depression</th>\n",
       "      <th>st_slope</th>\n",
       "      <th>num_major_vessels</th>\n",
       "      <th>thalassemia</th>\n",
       "      <th>target</th>\n",
       "    </tr>\n",
       "  </thead>\n",
       "  <tbody>\n",
       "    <tr>\n",
       "      <th>238</th>\n",
       "      <td>77</td>\n",
       "      <td>male</td>\n",
       "      <td>typical angina</td>\n",
       "      <td>125</td>\n",
       "      <td>304</td>\n",
       "      <td>lower than 120mg/ml</td>\n",
       "      <td>normal</td>\n",
       "      <td>162</td>\n",
       "      <td>yes</td>\n",
       "      <td>0.0</td>\n",
       "      <td>flat</td>\n",
       "      <td>3</td>\n",
       "      <td>fixed defect</td>\n",
       "      <td>0</td>\n",
       "    </tr>\n",
       "    <tr>\n",
       "      <th>225</th>\n",
       "      <td>70</td>\n",
       "      <td>male</td>\n",
       "      <td>typical angina</td>\n",
       "      <td>145</td>\n",
       "      <td>174</td>\n",
       "      <td>lower than 120mg/ml</td>\n",
       "      <td>ST-T wave abnormality</td>\n",
       "      <td>125</td>\n",
       "      <td>yes</td>\n",
       "      <td>2.6</td>\n",
       "      <td>upsloping</td>\n",
       "      <td>0</td>\n",
       "      <td>reversable defect</td>\n",
       "      <td>0</td>\n",
       "    </tr>\n",
       "    <tr>\n",
       "      <th>234</th>\n",
       "      <td>70</td>\n",
       "      <td>male</td>\n",
       "      <td>typical angina</td>\n",
       "      <td>130</td>\n",
       "      <td>322</td>\n",
       "      <td>lower than 120mg/ml</td>\n",
       "      <td>normal</td>\n",
       "      <td>109</td>\n",
       "      <td>no</td>\n",
       "      <td>2.4</td>\n",
       "      <td>upsloping</td>\n",
       "      <td>3</td>\n",
       "      <td>fixed defect</td>\n",
       "      <td>0</td>\n",
       "    </tr>\n",
       "    <tr>\n",
       "      <th>240</th>\n",
       "      <td>70</td>\n",
       "      <td>male</td>\n",
       "      <td>atypical angina</td>\n",
       "      <td>160</td>\n",
       "      <td>269</td>\n",
       "      <td>lower than 120mg/ml</td>\n",
       "      <td>ST-T wave abnormality</td>\n",
       "      <td>112</td>\n",
       "      <td>yes</td>\n",
       "      <td>2.9</td>\n",
       "      <td>upsloping</td>\n",
       "      <td>1</td>\n",
       "      <td>reversable defect</td>\n",
       "      <td>0</td>\n",
       "    </tr>\n",
       "    <tr>\n",
       "      <th>249</th>\n",
       "      <td>69</td>\n",
       "      <td>male</td>\n",
       "      <td>atypical angina</td>\n",
       "      <td>140</td>\n",
       "      <td>254</td>\n",
       "      <td>lower than 120mg/ml</td>\n",
       "      <td>normal</td>\n",
       "      <td>146</td>\n",
       "      <td>no</td>\n",
       "      <td>2.0</td>\n",
       "      <td>upsloping</td>\n",
       "      <td>3</td>\n",
       "      <td>reversable defect</td>\n",
       "      <td>0</td>\n",
       "    </tr>\n",
       "  </tbody>\n",
       "</table>\n",
       "</div>"
      ],
      "text/plain": [
       "     age   sex  chest_pain_type  resting_blood_pressure  cholesterol  \\\n",
       "238   77  male   typical angina                     125          304   \n",
       "225   70  male   typical angina                     145          174   \n",
       "234   70  male   typical angina                     130          322   \n",
       "240   70  male  atypical angina                     160          269   \n",
       "249   69  male  atypical angina                     140          254   \n",
       "\n",
       "     fasting_blood_sugar               rest_ecg  max_heart_rate_achieved  \\\n",
       "238  lower than 120mg/ml                 normal                      162   \n",
       "225  lower than 120mg/ml  ST-T wave abnormality                      125   \n",
       "234  lower than 120mg/ml                 normal                      109   \n",
       "240  lower than 120mg/ml  ST-T wave abnormality                      112   \n",
       "249  lower than 120mg/ml                 normal                      146   \n",
       "\n",
       "    exercise_induced_angina  st_depression   st_slope  num_major_vessels  \\\n",
       "238                     yes            0.0       flat                  3   \n",
       "225                     yes            2.6  upsloping                  0   \n",
       "234                      no            2.4  upsloping                  3   \n",
       "240                     yes            2.9  upsloping                  1   \n",
       "249                      no            2.0  upsloping                  3   \n",
       "\n",
       "           thalassemia  target  \n",
       "238       fixed defect       0  \n",
       "225  reversable defect       0  \n",
       "234       fixed defect       0  \n",
       "240  reversable defect       0  \n",
       "249  reversable defect       0  "
      ]
     },
     "execution_count": 26,
     "metadata": {},
     "output_type": "execute_result"
    }
   ],
   "source": [
    "data.sort_values(by=['target', 'age'],\n",
    "        ascending=[True, False]).head()"
   ]
  },
  {
   "cell_type": "code",
   "execution_count": null,
   "metadata": {},
   "outputs": [],
   "source": [
    "## Ваш ответ:77"
   ]
  },
  {
   "cell_type": "markdown",
   "metadata": {},
   "source": [
    "**Сколько лет самой молодой женщине, которая страдает болезнью сердца?**"
   ]
  },
  {
   "cell_type": "markdown",
   "metadata": {},
   "source": [
    "> 1/1 баллов"
   ]
  },
  {
   "cell_type": "code",
   "execution_count": 27,
   "metadata": {
    "scrolled": true
   },
   "outputs": [
    {
     "data": {
      "text/html": [
       "<div>\n",
       "<style scoped>\n",
       "    .dataframe tbody tr th:only-of-type {\n",
       "        vertical-align: middle;\n",
       "    }\n",
       "\n",
       "    .dataframe tbody tr th {\n",
       "        vertical-align: top;\n",
       "    }\n",
       "\n",
       "    .dataframe thead th {\n",
       "        text-align: right;\n",
       "    }\n",
       "</style>\n",
       "<table border=\"1\" class=\"dataframe\">\n",
       "  <thead>\n",
       "    <tr style=\"text-align: right;\">\n",
       "      <th></th>\n",
       "      <th>age</th>\n",
       "      <th>sex</th>\n",
       "      <th>chest_pain_type</th>\n",
       "      <th>resting_blood_pressure</th>\n",
       "      <th>cholesterol</th>\n",
       "      <th>fasting_blood_sugar</th>\n",
       "      <th>rest_ecg</th>\n",
       "      <th>max_heart_rate_achieved</th>\n",
       "      <th>exercise_induced_angina</th>\n",
       "      <th>st_depression</th>\n",
       "      <th>st_slope</th>\n",
       "      <th>num_major_vessels</th>\n",
       "      <th>thalassemia</th>\n",
       "      <th>target</th>\n",
       "    </tr>\n",
       "  </thead>\n",
       "  <tbody>\n",
       "    <tr>\n",
       "      <th>125</th>\n",
       "      <td>34</td>\n",
       "      <td>female</td>\n",
       "      <td>typical angina</td>\n",
       "      <td>118</td>\n",
       "      <td>210</td>\n",
       "      <td>lower than 120mg/ml</td>\n",
       "      <td>ST-T wave abnormality</td>\n",
       "      <td>192</td>\n",
       "      <td>no</td>\n",
       "      <td>0.7</td>\n",
       "      <td>flat</td>\n",
       "      <td>0</td>\n",
       "      <td>fixed defect</td>\n",
       "      <td>1</td>\n",
       "    </tr>\n",
       "    <tr>\n",
       "      <th>65</th>\n",
       "      <td>35</td>\n",
       "      <td>female</td>\n",
       "      <td>typical angina</td>\n",
       "      <td>138</td>\n",
       "      <td>183</td>\n",
       "      <td>lower than 120mg/ml</td>\n",
       "      <td>ST-T wave abnormality</td>\n",
       "      <td>182</td>\n",
       "      <td>no</td>\n",
       "      <td>1.4</td>\n",
       "      <td>flat</td>\n",
       "      <td>0</td>\n",
       "      <td>fixed defect</td>\n",
       "      <td>1</td>\n",
       "    </tr>\n",
       "    <tr>\n",
       "      <th>115</th>\n",
       "      <td>37</td>\n",
       "      <td>female</td>\n",
       "      <td>atypical angina</td>\n",
       "      <td>120</td>\n",
       "      <td>215</td>\n",
       "      <td>lower than 120mg/ml</td>\n",
       "      <td>ST-T wave abnormality</td>\n",
       "      <td>170</td>\n",
       "      <td>no</td>\n",
       "      <td>0.0</td>\n",
       "      <td>flat</td>\n",
       "      <td>0</td>\n",
       "      <td>fixed defect</td>\n",
       "      <td>1</td>\n",
       "    </tr>\n",
       "    <tr>\n",
       "      <th>124</th>\n",
       "      <td>39</td>\n",
       "      <td>female</td>\n",
       "      <td>atypical angina</td>\n",
       "      <td>94</td>\n",
       "      <td>199</td>\n",
       "      <td>lower than 120mg/ml</td>\n",
       "      <td>ST-T wave abnormality</td>\n",
       "      <td>179</td>\n",
       "      <td>no</td>\n",
       "      <td>0.0</td>\n",
       "      <td>flat</td>\n",
       "      <td>0</td>\n",
       "      <td>fixed defect</td>\n",
       "      <td>1</td>\n",
       "    </tr>\n",
       "    <tr>\n",
       "      <th>154</th>\n",
       "      <td>39</td>\n",
       "      <td>female</td>\n",
       "      <td>atypical angina</td>\n",
       "      <td>138</td>\n",
       "      <td>220</td>\n",
       "      <td>lower than 120mg/ml</td>\n",
       "      <td>ST-T wave abnormality</td>\n",
       "      <td>152</td>\n",
       "      <td>no</td>\n",
       "      <td>0.0</td>\n",
       "      <td>upsloping</td>\n",
       "      <td>0</td>\n",
       "      <td>fixed defect</td>\n",
       "      <td>1</td>\n",
       "    </tr>\n",
       "  </tbody>\n",
       "</table>\n",
       "</div>"
      ],
      "text/plain": [
       "     age     sex  chest_pain_type  resting_blood_pressure  cholesterol  \\\n",
       "125   34  female   typical angina                     118          210   \n",
       "65    35  female   typical angina                     138          183   \n",
       "115   37  female  atypical angina                     120          215   \n",
       "124   39  female  atypical angina                      94          199   \n",
       "154   39  female  atypical angina                     138          220   \n",
       "\n",
       "     fasting_blood_sugar               rest_ecg  max_heart_rate_achieved  \\\n",
       "125  lower than 120mg/ml  ST-T wave abnormality                      192   \n",
       "65   lower than 120mg/ml  ST-T wave abnormality                      182   \n",
       "115  lower than 120mg/ml  ST-T wave abnormality                      170   \n",
       "124  lower than 120mg/ml  ST-T wave abnormality                      179   \n",
       "154  lower than 120mg/ml  ST-T wave abnormality                      152   \n",
       "\n",
       "    exercise_induced_angina  st_depression   st_slope  num_major_vessels  \\\n",
       "125                      no            0.7       flat                  0   \n",
       "65                       no            1.4       flat                  0   \n",
       "115                      no            0.0       flat                  0   \n",
       "124                      no            0.0       flat                  0   \n",
       "154                      no            0.0  upsloping                  0   \n",
       "\n",
       "      thalassemia  target  \n",
       "125  fixed defect       1  \n",
       "65   fixed defect       1  \n",
       "115  fixed defect       1  \n",
       "124  fixed defect       1  \n",
       "154  fixed defect       1  "
      ]
     },
     "execution_count": 27,
     "metadata": {},
     "output_type": "execute_result"
    }
   ],
   "source": [
    "data.sort_values(by=['target','sex', 'age'],\n",
    "        ascending=[False,True, True]).head()"
   ]
  },
  {
   "cell_type": "code",
   "execution_count": 22,
   "metadata": {},
   "outputs": [],
   "source": [
    "## Ваш ответ:34"
   ]
  },
  {
   "cell_type": "markdown",
   "metadata": {},
   "source": [
    "**Какой средний возраст женщин?**"
   ]
  },
  {
   "cell_type": "markdown",
   "metadata": {},
   "source": [
    "> 1/1 баллов"
   ]
  },
  {
   "cell_type": "code",
   "execution_count": 28,
   "metadata": {},
   "outputs": [
    {
     "data": {
      "text/plain": [
       "55.677083333333336"
      ]
     },
     "execution_count": 28,
     "metadata": {},
     "output_type": "execute_result"
    }
   ],
   "source": [
    "data[data['sex'] == 'female']['age'].mean()"
   ]
  },
  {
   "cell_type": "code",
   "execution_count": 29,
   "metadata": {},
   "outputs": [],
   "source": [
    "## Ваш ответ:55.677083333333336"
   ]
  },
  {
   "cell_type": "markdown",
   "metadata": {},
   "source": [
    "**Каковы средние значения и среднеквадратичные отклонения возраста тех, кто страдают болезнью сердца?**"
   ]
  },
  {
   "cell_type": "markdown",
   "metadata": {},
   "source": [
    "> 1/1 баллов"
   ]
  },
  {
   "cell_type": "code",
   "execution_count": 71,
   "metadata": {
    "scrolled": true
   },
   "outputs": [
    {
     "data": {
      "text/html": [
       "<div>\n",
       "<style scoped>\n",
       "    .dataframe tbody tr th:only-of-type {\n",
       "        vertical-align: middle;\n",
       "    }\n",
       "\n",
       "    .dataframe tbody tr th {\n",
       "        vertical-align: top;\n",
       "    }\n",
       "\n",
       "    .dataframe thead th {\n",
       "        text-align: right;\n",
       "    }\n",
       "</style>\n",
       "<table border=\"1\" class=\"dataframe\">\n",
       "  <thead>\n",
       "    <tr style=\"text-align: right;\">\n",
       "      <th></th>\n",
       "      <th>count</th>\n",
       "      <th>mean</th>\n",
       "      <th>std</th>\n",
       "      <th>min</th>\n",
       "      <th>50%</th>\n",
       "      <th>max</th>\n",
       "    </tr>\n",
       "    <tr>\n",
       "      <th>target</th>\n",
       "      <th></th>\n",
       "      <th></th>\n",
       "      <th></th>\n",
       "      <th></th>\n",
       "      <th></th>\n",
       "      <th></th>\n",
       "    </tr>\n",
       "  </thead>\n",
       "  <tbody>\n",
       "    <tr>\n",
       "      <th>0</th>\n",
       "      <td>138.0</td>\n",
       "      <td>56.601449</td>\n",
       "      <td>7.962082</td>\n",
       "      <td>35.0</td>\n",
       "      <td>58.0</td>\n",
       "      <td>77.0</td>\n",
       "    </tr>\n",
       "    <tr>\n",
       "      <th>1</th>\n",
       "      <td>165.0</td>\n",
       "      <td>52.496970</td>\n",
       "      <td>9.550651</td>\n",
       "      <td>29.0</td>\n",
       "      <td>52.0</td>\n",
       "      <td>76.0</td>\n",
       "    </tr>\n",
       "  </tbody>\n",
       "</table>\n",
       "</div>"
      ],
      "text/plain": [
       "        count       mean       std   min   50%   max\n",
       "target                                              \n",
       "0       138.0  56.601449  7.962082  35.0  58.0  77.0\n",
       "1       165.0  52.496970  9.550651  29.0  52.0  76.0"
      ]
     },
     "execution_count": 71,
     "metadata": {},
     "output_type": "execute_result"
    }
   ],
   "source": [
    "data.groupby(['target'])['age'].describe(percentiles=[])"
   ]
  },
  {
   "cell_type": "code",
   "execution_count": 25,
   "metadata": {},
   "outputs": [],
   "source": [
    "## Ваш ответ:52.496970 i 9.550651"
   ]
  },
  {
   "cell_type": "markdown",
   "metadata": {},
   "source": [
    "** Правда ли, что люди не болеющие болезнью сердца имеют уровня холестерина меньше среднего? (chol) **"
   ]
  },
  {
   "cell_type": "markdown",
   "metadata": {},
   "source": [
    "> 0/1 баллов"
   ]
  },
  {
   "cell_type": "code",
   "execution_count": null,
   "metadata": {},
   "outputs": [],
   "source": []
  },
  {
   "cell_type": "code",
   "execution_count": 6,
   "metadata": {},
   "outputs": [
    {
     "data": {
      "text/plain": [
       "False"
      ]
     },
     "execution_count": 6,
     "metadata": {},
     "output_type": "execute_result"
    }
   ],
   "source": [
    "(data[data['target']==0]['cholesterol'].mean())<(data['cholesterol'].mean())"
   ]
  },
  {
   "cell_type": "code",
   "execution_count": null,
   "metadata": {},
   "outputs": [],
   "source": []
  },
  {
   "cell_type": "code",
   "execution_count": 66,
   "metadata": {},
   "outputs": [
    {
     "name": "stdout",
     "output_type": "stream",
     "text": [
      "count    303.000000\n",
      "mean     246.264026\n",
      "std       51.830751\n",
      "min      126.000000\n",
      "25%      211.000000\n",
      "50%      240.000000\n",
      "75%      274.500000\n",
      "max      564.000000\n",
      "Name: cholesterol, dtype: float64\n",
      "246.06140350877192\n"
     ]
    }
   ],
   "source": [
    "x = data['cholesterol'].describe()\n",
    "y = data[(data['sex'] == 'male') & (data['target'] == 0)]['cholesterol'].mean()\n",
    "print(x)\n",
    "print(y)"
   ]
  },
  {
   "cell_type": "code",
   "execution_count": null,
   "metadata": {},
   "outputs": [],
   "source": []
  },
  {
   "cell_type": "code",
   "execution_count": 59,
   "metadata": {},
   "outputs": [],
   "source": [
    "## Ваш ответ: Да. У них уровень хол. меньше:246.06140350877192 < 246.264026"
   ]
  },
  {
   "cell_type": "markdown",
   "metadata": {},
   "source": [
    "**Выведите статистику rest_ecg для все числовых признаков, его максимально и среднее значение (используйте groupby(), решите в одну строчку)**"
   ]
  },
  {
   "cell_type": "markdown",
   "metadata": {},
   "source": [
    "> 1/1 баллов"
   ]
  },
  {
   "cell_type": "code",
   "execution_count": 32,
   "metadata": {},
   "outputs": [
    {
     "data": {
      "text/html": [
       "<div>\n",
       "<style scoped>\n",
       "    .dataframe tbody tr th:only-of-type {\n",
       "        vertical-align: middle;\n",
       "    }\n",
       "\n",
       "    .dataframe tbody tr th {\n",
       "        vertical-align: top;\n",
       "    }\n",
       "\n",
       "    .dataframe thead tr th {\n",
       "        text-align: left;\n",
       "    }\n",
       "\n",
       "    .dataframe thead tr:last-of-type th {\n",
       "        text-align: right;\n",
       "    }\n",
       "</style>\n",
       "<table border=\"1\" class=\"dataframe\">\n",
       "  <thead>\n",
       "    <tr>\n",
       "      <th></th>\n",
       "      <th colspan=\"2\" halign=\"left\">age</th>\n",
       "      <th colspan=\"2\" halign=\"left\">resting_blood_pressure</th>\n",
       "      <th colspan=\"2\" halign=\"left\">cholesterol</th>\n",
       "      <th colspan=\"2\" halign=\"left\">max_heart_rate_achieved</th>\n",
       "      <th colspan=\"2\" halign=\"left\">st_depression</th>\n",
       "      <th colspan=\"2\" halign=\"left\">num_major_vessels</th>\n",
       "      <th colspan=\"2\" halign=\"left\">target</th>\n",
       "    </tr>\n",
       "    <tr>\n",
       "      <th></th>\n",
       "      <th>mean</th>\n",
       "      <th>amax</th>\n",
       "      <th>mean</th>\n",
       "      <th>amax</th>\n",
       "      <th>mean</th>\n",
       "      <th>amax</th>\n",
       "      <th>mean</th>\n",
       "      <th>amax</th>\n",
       "      <th>mean</th>\n",
       "      <th>amax</th>\n",
       "      <th>mean</th>\n",
       "      <th>amax</th>\n",
       "      <th>mean</th>\n",
       "      <th>amax</th>\n",
       "    </tr>\n",
       "    <tr>\n",
       "      <th>rest_ecg</th>\n",
       "      <th></th>\n",
       "      <th></th>\n",
       "      <th></th>\n",
       "      <th></th>\n",
       "      <th></th>\n",
       "      <th></th>\n",
       "      <th></th>\n",
       "      <th></th>\n",
       "      <th></th>\n",
       "      <th></th>\n",
       "      <th></th>\n",
       "      <th></th>\n",
       "      <th></th>\n",
       "      <th></th>\n",
       "    </tr>\n",
       "  </thead>\n",
       "  <tbody>\n",
       "    <tr>\n",
       "      <th>ST-T wave abnormality</th>\n",
       "      <td>52.914474</td>\n",
       "      <td>71</td>\n",
       "      <td>129.065789</td>\n",
       "      <td>180</td>\n",
       "      <td>237.269737</td>\n",
       "      <td>354</td>\n",
       "      <td>151.960526</td>\n",
       "      <td>194</td>\n",
       "      <td>0.879605</td>\n",
       "      <td>5.6</td>\n",
       "      <td>0.638158</td>\n",
       "      <td>4</td>\n",
       "      <td>0.631579</td>\n",
       "      <td>1</td>\n",
       "    </tr>\n",
       "    <tr>\n",
       "      <th>left ventricular hypertrophy</th>\n",
       "      <td>61.000000</td>\n",
       "      <td>76</td>\n",
       "      <td>140.500000</td>\n",
       "      <td>180</td>\n",
       "      <td>261.750000</td>\n",
       "      <td>327</td>\n",
       "      <td>125.750000</td>\n",
       "      <td>140</td>\n",
       "      <td>2.725000</td>\n",
       "      <td>4.4</td>\n",
       "      <td>1.000000</td>\n",
       "      <td>3</td>\n",
       "      <td>0.250000</td>\n",
       "      <td>1</td>\n",
       "    </tr>\n",
       "    <tr>\n",
       "      <th>normal</th>\n",
       "      <td>55.687075</td>\n",
       "      <td>77</td>\n",
       "      <td>134.027211</td>\n",
       "      <td>200</td>\n",
       "      <td>255.142857</td>\n",
       "      <td>564</td>\n",
       "      <td>147.904762</td>\n",
       "      <td>202</td>\n",
       "      <td>1.159184</td>\n",
       "      <td>6.2</td>\n",
       "      <td>0.816327</td>\n",
       "      <td>4</td>\n",
       "      <td>0.462585</td>\n",
       "      <td>1</td>\n",
       "    </tr>\n",
       "  </tbody>\n",
       "</table>\n",
       "</div>"
      ],
      "text/plain": [
       "                                    age      resting_blood_pressure       \\\n",
       "                                   mean amax                   mean amax   \n",
       "rest_ecg                                                                   \n",
       "ST-T wave abnormality         52.914474   71             129.065789  180   \n",
       "left ventricular hypertrophy  61.000000   76             140.500000  180   \n",
       "normal                        55.687075   77             134.027211  200   \n",
       "\n",
       "                             cholesterol      max_heart_rate_achieved       \\\n",
       "                                    mean amax                    mean amax   \n",
       "rest_ecg                                                                     \n",
       "ST-T wave abnormality         237.269737  354              151.960526  194   \n",
       "left ventricular hypertrophy  261.750000  327              125.750000  140   \n",
       "normal                        255.142857  564              147.904762  202   \n",
       "\n",
       "                             st_depression      num_major_vessels       \\\n",
       "                                      mean amax              mean amax   \n",
       "rest_ecg                                                                 \n",
       "ST-T wave abnormality             0.879605  5.6          0.638158    4   \n",
       "left ventricular hypertrophy      2.725000  4.4          1.000000    3   \n",
       "normal                            1.159184  6.2          0.816327    4   \n",
       "\n",
       "                                target       \n",
       "                                  mean amax  \n",
       "rest_ecg                                     \n",
       "ST-T wave abnormality         0.631579    1  \n",
       "left ventricular hypertrophy  0.250000    1  \n",
       "normal                        0.462585    1  "
      ]
     },
     "execution_count": 32,
     "metadata": {},
     "output_type": "execute_result"
    }
   ],
   "source": [
    "data.groupby(['rest_ecg'])['age','resting_blood_pressure','cholesterol','max_heart_rate_achieved','st_depression','num_major_vessels','target'].agg([np.mean, np.max])"
   ]
  },
  {
   "cell_type": "code",
   "execution_count": 35,
   "metadata": {},
   "outputs": [],
   "source": [
    "## Ваш ответ: Таблица."
   ]
  },
  {
   "cell_type": "markdown",
   "metadata": {},
   "source": [
    "**Посчитайте у кого уровень депрессии при физический нагрузке выше (в среднем), среди мужчин страдающих болезнью сердца или среди женщин не страдающих болезнью сердца (st_depression)**"
   ]
  },
  {
   "cell_type": "markdown",
   "metadata": {},
   "source": [
    "> 1/1 баллов"
   ]
  },
  {
   "cell_type": "code",
   "execution_count": 68,
   "metadata": {},
   "outputs": [
    {
     "name": "stdout",
     "output_type": "stream",
     "text": [
      "0.6053763440860215\n",
      "1.8416666666666668\n"
     ]
    }
   ],
   "source": [
    "male = data[(data['sex'] == 'male') & (data['target'] == 1)]['st_depression'].mean()\n",
    "female = data[(data['sex'] == 'female') & (data['target'] == 0)]['st_depression'].mean()\n",
    "print(male)\n",
    "print(female)"
   ]
  },
  {
   "cell_type": "code",
   "execution_count": 37,
   "metadata": {},
   "outputs": [],
   "source": [
    "## Ваш ответ:У женщин выше."
   ]
  },
  {
   "cell_type": "markdown",
   "metadata": {},
   "source": [
    "**Посчтитайте максимальный и минимальный уровень холестерина для каждого типа chest_pain_type, rest_ecg, thalassemia. Пишите код оптимально, можно использовать циклы**"
   ]
  },
  {
   "cell_type": "markdown",
   "metadata": {},
   "source": [
    "> 1/1 баллов"
   ]
  },
  {
   "cell_type": "code",
   "execution_count": 72,
   "metadata": {},
   "outputs": [
    {
     "name": "stdout",
     "output_type": "stream",
     "text": [
      "                  amin  amax\n",
      "chest_pain_type             \n",
      "atypical angina    126   564\n",
      "non-anginal pain   182   298\n",
      "typical angina     131   409\n",
      "                              amin  amax\n",
      "rest_ecg                                \n",
      "ST-T wave abnormality          126   354\n",
      "left ventricular hypertrophy   197   327\n",
      "normal                         149   564\n",
      "                   amin  amax\n",
      "thalassemia                  \n",
      "fixed defect        141   417\n",
      "normal              169   318\n",
      "reversable defect   126   564\n"
     ]
    }
   ],
   "source": [
    "a = data.groupby(['chest_pain_type'])['cholesterol'].agg([np.min, np.max])\n",
    "b = data.groupby(['rest_ecg'])['cholesterol'].agg([np.min, np.max])\n",
    "c = data.groupby(['thalassemia'])['cholesterol'].agg([np.min, np.max])\n",
    "print(a)\n",
    "print(b)\n",
    "print(c)"
   ]
  },
  {
   "cell_type": "code",
   "execution_count": null,
   "metadata": {},
   "outputs": [],
   "source": [
    "## Ваш ответ:Таблицы"
   ]
  },
  {
   "cell_type": "markdown",
   "metadata": {},
   "source": [
    "**Сколько значений может принимать каждый из категориальных признаков?**"
   ]
  },
  {
   "cell_type": "markdown",
   "metadata": {},
   "source": [
    "> 1/1 баллов"
   ]
  },
  {
   "cell_type": "code",
   "execution_count": 76,
   "metadata": {
    "scrolled": true
   },
   "outputs": [
    {
     "data": {
      "text/html": [
       "<div>\n",
       "<style scoped>\n",
       "    .dataframe tbody tr th:only-of-type {\n",
       "        vertical-align: middle;\n",
       "    }\n",
       "\n",
       "    .dataframe tbody tr th {\n",
       "        vertical-align: top;\n",
       "    }\n",
       "\n",
       "    .dataframe thead th {\n",
       "        text-align: right;\n",
       "    }\n",
       "</style>\n",
       "<table border=\"1\" class=\"dataframe\">\n",
       "  <thead>\n",
       "    <tr style=\"text-align: right;\">\n",
       "      <th></th>\n",
       "      <th>sex</th>\n",
       "      <th>chest_pain_type</th>\n",
       "      <th>fasting_blood_sugar</th>\n",
       "      <th>rest_ecg</th>\n",
       "      <th>exercise_induced_angina</th>\n",
       "      <th>st_slope</th>\n",
       "      <th>thalassemia</th>\n",
       "    </tr>\n",
       "  </thead>\n",
       "  <tbody>\n",
       "    <tr>\n",
       "      <th>count</th>\n",
       "      <td>303</td>\n",
       "      <td>303</td>\n",
       "      <td>303</td>\n",
       "      <td>303</td>\n",
       "      <td>303</td>\n",
       "      <td>303</td>\n",
       "      <td>303</td>\n",
       "    </tr>\n",
       "    <tr>\n",
       "      <th>unique</th>\n",
       "      <td>2</td>\n",
       "      <td>3</td>\n",
       "      <td>2</td>\n",
       "      <td>3</td>\n",
       "      <td>2</td>\n",
       "      <td>2</td>\n",
       "      <td>3</td>\n",
       "    </tr>\n",
       "    <tr>\n",
       "      <th>top</th>\n",
       "      <td>male</td>\n",
       "      <td>typical angina</td>\n",
       "      <td>lower than 120mg/ml</td>\n",
       "      <td>ST-T wave abnormality</td>\n",
       "      <td>no</td>\n",
       "      <td>upsloping</td>\n",
       "      <td>fixed defect</td>\n",
       "    </tr>\n",
       "    <tr>\n",
       "      <th>freq</th>\n",
       "      <td>207</td>\n",
       "      <td>193</td>\n",
       "      <td>258</td>\n",
       "      <td>152</td>\n",
       "      <td>204</td>\n",
       "      <td>161</td>\n",
       "      <td>166</td>\n",
       "    </tr>\n",
       "  </tbody>\n",
       "</table>\n",
       "</div>"
      ],
      "text/plain": [
       "         sex chest_pain_type  fasting_blood_sugar               rest_ecg  \\\n",
       "count    303             303                  303                    303   \n",
       "unique     2               3                    2                      3   \n",
       "top     male  typical angina  lower than 120mg/ml  ST-T wave abnormality   \n",
       "freq     207             193                  258                    152   \n",
       "\n",
       "       exercise_induced_angina   st_slope   thalassemia  \n",
       "count                      303        303           303  \n",
       "unique                       2          2             3  \n",
       "top                         no  upsloping  fixed defect  \n",
       "freq                       204        161           166  "
      ]
     },
     "execution_count": 76,
     "metadata": {},
     "output_type": "execute_result"
    }
   ],
   "source": [
    "data.describe(include=[object])"
   ]
  },
  {
   "cell_type": "code",
   "execution_count": null,
   "metadata": {},
   "outputs": [],
   "source": [
    "## Ваш ответ: Значение \"unique\" для каждого признака в таблице."
   ]
  },
  {
   "cell_type": "markdown",
   "metadata": {},
   "source": [
    "**У какого категориального признака наблюдается самый сильный дизбаланс классов?**"
   ]
  },
  {
   "cell_type": "markdown",
   "metadata": {},
   "source": [
    "> 1/1 баллов"
   ]
  },
  {
   "cell_type": "code",
   "execution_count": 77,
   "metadata": {},
   "outputs": [
    {
     "name": "stdout",
     "output_type": "stream",
     "text": [
      "0.7029702970297029\n",
      "fasting_blood_sugar\n"
     ]
    }
   ],
   "source": [
    "x = ['sex', 'chest_pain_type', 'fasting_blood_sugar', 'rest_ecg', 'exercise_induced_angina', 'st_slope', 'thalassemia']\n",
    "w = data['sex'].value_counts(normalize=True)\n",
    "l=1\n",
    "p = 0\n",
    "q = 0\n",
    "    \n",
    "for c in x:\n",
    "    l=0\n",
    "    z = data[c].value_counts(normalize=True)\n",
    "    k = z[l]-z[l-1]\n",
    "    if k>1*p:\n",
    "        m = x[q]\n",
    "        p = k\n",
    "    q+=1\n",
    "    for v in z:\n",
    "        l+=1\n",
    "print(p)\n",
    "print(m)"
   ]
  },
  {
   "cell_type": "code",
   "execution_count": null,
   "metadata": {},
   "outputs": [],
   "source": [
    "## Ваш ответ: ['fasting_blood_sugar']"
   ]
  },
  {
   "cell_type": "markdown",
   "metadata": {},
   "source": [
    "### Молодец, 14/15"
   ]
  },
  {
   "cell_type": "markdown",
   "metadata": {},
   "source": [
    "---"
   ]
  },
  {
   "cell_type": "markdown",
   "metadata": {},
   "source": [
    "@Booster\n",
    "Мамкин Data Scientist\n",
    "\n",
    "tg @mommyscience"
   ]
  }
 ],
 "metadata": {
  "kernelspec": {
   "display_name": "Python 3",
   "language": "python",
   "name": "python3"
  },
  "language_info": {
   "codemirror_mode": {
    "name": "ipython",
    "version": 3
   },
   "file_extension": ".py",
   "mimetype": "text/x-python",
   "name": "python",
   "nbconvert_exporter": "python",
   "pygments_lexer": "ipython3",
   "version": "3.6.4"
  }
 },
 "nbformat": 4,
 "nbformat_minor": 2
}
